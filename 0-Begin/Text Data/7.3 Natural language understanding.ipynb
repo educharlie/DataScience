{
 "cells": [
  {
   "cell_type": "markdown",
   "metadata": {},
   "source": [
    "# Natural language understanding\n",
    "\n",
    "Human language is about communication: it's more than just the bag of words.  Natural Language Processing (NLP) is the process of understanding the meaning of text, using its grammar. \n",
    "\n",
    "If you get interested in this, one of the best places to start is the NLTK book, at http://www.nltk.org/book/\n",
    "\n",
    "We'll be using the NLTK library and corpora. Corpora = lists of words, like stopwords, stemwords, grammar etc. for multiple languages. "
   ]
  },
  {
   "cell_type": "markdown",
   "metadata": {},
   "source": [
    "## Get NLTK resources\n",
    "\n",
    "WARNINGS: \n",
    "\n",
    "* You will have to conda install nltk before you can run this cell\n",
    "* And even when you ahve the NLTK library, you won't be able to run the cells below without the NLTK corpora. \n",
    "\n",
    "Run the cell below just once.  \n",
    "* When you run nltk.download(), a popup window will appear. \n",
    "* Click on the \"models\" tab, then \"punkt\" then the \"download\" button\n",
    "\n",
    "If you want more, try clicking on \"book\" then \"download\".  If you ever wanted to have the whole of Basque grammar, then click around the tabs in this popup window: this is the place to get it!"
   ]
  },
  {
   "cell_type": "code",
   "execution_count": 1,
   "metadata": {
    "collapsed": true
   },
   "outputs": [],
   "source": [
    "# import nltk\n",
    "# nltk.download() #Uncomment this before running the cell"
   ]
  },
  {
   "cell_type": "markdown",
   "metadata": {},
   "source": [
    "## Get dataset\n",
    "\n",
    "Notice how we process this text differently to the bag of words: we convert it into all the words in the sipa text, in the order they appear in the text.  The function nltk.text.Text() converts this list into an object that we can use to ask natural language questions about the text."
   ]
  },
  {
   "cell_type": "code",
   "execution_count": 2,
   "metadata": {
    "collapsed": false
   },
   "outputs": [
    {
     "name": "stdout",
     "output_type": "stream",
     "text": [
      "['The', 'School', 'of', 'International', 'and', 'Public', 'Affairs', 'at', 'Columbia', 'University', '(', 'also', 'known', 'at', 'SIPA', ')', 'is', 'a', 'public', 'policy', 'and', 'international', 'affairs', 'school', 'and', 'one', 'of', 'Columbia', \"'s\", 'graduate', 'and', 'professional', 'schools', '.', 'Located', 'on', 'Columbia', \"'s\", 'Morningside', 'Heights', 'campus', 'in', 'the', 'Borough', 'ofManhattan', ',', 'in', 'New', 'York', 'City', ',', 'the', 'school', 'has', 'more', 'than', '19,000', 'alumni', 'in', 'more', 'than', '150', 'countries', '.', 'SIPA', \"'s\", 'alumni', 'include', 'former', 'heads', 'of', 'state', ',', 'business', 'leaders', ',', 'journalists', ',', 'diplomats', ',', 'and', 'elected', 'representatives', '.', 'Many', 'graduates', 'reach', 'the', 'upper', 'echelons', 'of', 'central', 'banks', 'and', 'treasuries', ',', 'others', 'go', 'to', 'energy', 'companies', ',', 'non-for-profits', 'and', 'social', 'enterprises', '.', '[', '1', ']', 'Half', 'of', 'SIPA’s', 'nearly', '1,400', 'students', 'are', 'international', ',', 'coming', 'from', 'over', '100', 'countries', '.', 'SIPA', 'has', 'more', 'than', '70', 'full-time', 'faculty', 'and', 'more', 'than', '200', 'adjunct', 'professors', ',', 'including', 'the', 'world', \"'s\", 'leading', 'scholars', 'on', 'international', 'relations', '.', 'The', 'school', 'offers', 'two', 'traditional', 'two-year', 'master', \"'s\", 'degrees', '(', 'Master', 'of', 'Public', 'Administration', 'or', 'Master', 'of', 'International', 'Affairs', ')', ',', 'an', 'Executive', 'MPA', ',', 'an', 'Environmental', 'Science', 'and', 'Policy', 'program', ',', 'an', 'Economic', 'Policy', 'Management', 'program', ',', 'a', 'Development', 'Practice', 'degree', ',', 'and', 'a', 'Ph.D.', 'program', 'in', 'Sustainable', 'Development', '.', 'SIPA', 'also', 'offers', 'a', 'number', 'of', 'dual-degree', 'programs', 'with', 'other', 'Columbia', 'University', 'schools', 'and', ',', 'through', 'the', 'Global', 'Public', 'Policy', 'Network', '(', 'GPPN', ')', ',', 'offers', 'international', 'dual', 'degree', 'programs', 'with', 'the', 'London', 'School', 'of', 'Economics', 'and', 'Political', 'Science', ',', 'the', 'Institut', \"d'Études\", 'Politiques', 'de', 'Paris', '(', 'Sciences', 'Po', ')', ',', 'the', 'Hertie', 'School', 'of', 'Governance', 'in', 'Berlin', ',', 'the', 'University', 'of', 'Tokyo', 'and', 'the', 'Lee', 'Kuan', 'Yew', 'School', 'of', 'Public', 'Policy', 'at', 'the', 'National', 'University', 'of', 'Singapore', '.', '[', '2', ']']\n",
      "<Text: The School of International and Public Affairs at...>\n"
     ]
    }
   ],
   "source": [
    "from nltk import word_tokenize\n",
    "from nltk.text import Text\n",
    "\n",
    "fsipa = open('example_data/sipatext.txt', 'r')\n",
    "sipatext = fsipa.read()\n",
    "fsipa.close()\n",
    "\n",
    "sipawords = word_tokenize(sipatext)\n",
    "textlist = Text(sipawords)\n",
    "print('{}'.format(sipawords))\n",
    "print('{}'.format(textlist))"
   ]
  },
  {
   "cell_type": "markdown",
   "metadata": {},
   "source": [
    "## Get information about this dataset\n",
    "\n",
    "* The concordance() function displays all the occurances of a given word, with the words around it.\n",
    "* the similar() function displays all words that appear in similar contexts (has the same words either side of it) to a given word.\n",
    "* common_contexts(word_list) tells you which pairs of words occur around all the words in word_list\n",
    "* dispersion_plot() shows you *where* in a text given words appear"
   ]
  },
  {
   "cell_type": "code",
   "execution_count": 3,
   "metadata": {
    "collapsed": false
   },
   "outputs": [
    {
     "name": "stdout",
     "output_type": "stream",
     "text": [
      "Displaying 7 of 7 matches:\n",
      "                                    School of International and Public Affairs\n",
      "ic policy and international affairs school and one of Columbia 's graduate and\n",
      "fManhattan , in New York City , the school has more than 19,000 alumni in more\n",
      "rs on international relations . The school offers two traditional two-year mas\n",
      "ual degree programs with the London School of Economics and Political Science \n",
      " Paris ( Sciences Po ) , the Hertie School of Governance in Berlin , the Unive\n",
      "rsity of Tokyo and the Lee Kuan Yew School of Public Policy at the National Un\n"
     ]
    }
   ],
   "source": [
    "textlist.concordance('school')"
   ]
  },
  {
   "cell_type": "code",
   "execution_count": 4,
   "metadata": {
    "collapsed": false
   },
   "outputs": [
    {
     "name": "stdout",
     "output_type": "stream",
     "text": [
      "university\n"
     ]
    }
   ],
   "source": [
    "textlist.similar('school')"
   ]
  },
  {
   "cell_type": "code",
   "execution_count": 5,
   "metadata": {
    "collapsed": false
   },
   "outputs": [
    {
     "name": "stdout",
     "output_type": "stream",
     "text": [
      "the_of\n"
     ]
    }
   ],
   "source": [
    "textlist.common_contexts(['school', 'university'])"
   ]
  },
  {
   "cell_type": "code",
   "execution_count": 6,
   "metadata": {
    "collapsed": false
   },
   "outputs": [
    {
     "data": {
      "image/png": "[encoded data removed]",
      "text/plain": [
       "<matplotlib.figure.Figure at 0x10dbfaef0>"
      ]
     },
     "metadata": {},
     "output_type": "display_data"
    }
   ],
   "source": [
    "%matplotlib inline\n",
    "textlist.dispersion_plot(['school', 'university'])"
   ]
  },
  {
   "cell_type": "markdown",
   "metadata": {},
   "source": [
    "### Aside: the NLTK test datasets\n",
    "\n",
    "nltk.book contains a set of example texts.  These are large, and can be <del>great fun </del> very instructive to play with. \n",
    "\n",
    "* Text1: Moby Dick by Herman Melville 1851\n",
    "* Text2: Sense and Sensibility by Jane Austen 1811\n",
    "* Text3: The Book of Genesis\n",
    "* Text4: Inaugural Address Corpus\n",
    "* Text5: Chat Corpus\n",
    "* Text6: Monty Python and the Holy Grail\n",
    "* Text7: Wall Street Journal\n",
    "* Text8: Personals Corpus\n",
    "* Text9: The Man Who Was Thursday by G . K . Chesterton 1908\n",
    "\n",
    "If you're playing with Text2, this might help: http://www.sparknotes.com/lit/sensibility/characters.html"
   ]
  },
  {
   "cell_type": "code",
   "execution_count": 7,
   "metadata": {
    "collapsed": false
   },
   "outputs": [
    {
     "name": "stdout",
     "output_type": "stream",
     "text": [
      "*** Introductory Examples for the NLTK Book ***\n",
      "Loading text1, ..., text9 and sent1, ..., sent9\n",
      "Type the name of the text or sentence to view it.\n",
      "Type: 'texts()' or 'sents()' to list the materials.\n",
      "text1: Moby Dick by Herman Melville 1851\n",
      "text2: Sense and Sensibility by Jane Austen 1811\n",
      "text3: The Book of Genesis\n",
      "text4: Inaugural Address Corpus\n",
      "text5: Chat Corpus\n",
      "text6: Monty Python and the Holy Grail\n",
      "text7: Wall Street Journal\n",
      "text8: Personals Corpus\n",
      "text9: The Man Who Was Thursday by G . K . Chesterton 1908\n"
     ]
    }
   ],
   "source": [
    "from nltk.book import *"
   ]
  },
  {
   "cell_type": "code",
   "execution_count": 8,
   "metadata": {
    "collapsed": false
   },
   "outputs": [
    {
     "data": {
      "image/png": "[encoded data removed]",
      "text/plain": [
       "<matplotlib.figure.Figure at 0x113f68828>"
      ]
     },
     "metadata": {},
     "output_type": "display_data"
    },
    {
     "data": {
      "image/png": "[encoded data removed]",
      "text/plain": [
       "<matplotlib.figure.Figure at 0x113f73390>"
      ]
     },
     "metadata": {},
     "output_type": "display_data"
    },
    {
     "data": {
      "text/plain": [
       "<Text: Sense and Sensibility by Jane Austen 1811>"
      ]
     },
     "execution_count": 8,
     "metadata": {},
     "output_type": "execute_result"
    }
   ],
   "source": [
    "text2.dispersion_plot(['gentleman', 'lady'])\n",
    "text2.dispersion_plot(['Elinor', 'Willoughby', 'Sophia'])\n",
    "text2"
   ]
  },
  {
   "cell_type": "markdown",
   "metadata": {},
   "source": [
    "## Word meanings: WordNet\n",
    "\n",
    "WordNet is a thesaurus-style collection of English words, and is included in the NLTK distribution."
   ]
  },
  {
   "cell_type": "code",
   "execution_count": 9,
   "metadata": {
    "collapsed": false
   },
   "outputs": [
    {
     "name": "stdout",
     "output_type": "stream",
     "text": [
      "Synset: [Synset('class.n.01'), Synset('class.n.02'), Synset('class.n.03'), Synset('course.n.01'), Synset('class.n.05'), Synset('class.n.06'), Synset('class.n.07'), Synset('class.n.08'), Synset('classify.v.01')]\n",
      "\n",
      "Meaning 0: ['class', 'category', 'family'] a collection of things sharing a common attribute\n",
      "Meaning 1: ['class', 'form', 'grade', 'course'] a body of students who are taught together\n",
      "Meaning 2: ['class', 'stratum', 'social_class', 'socio-economic_class'] people having the same social, economic, or educational status\n",
      "Meaning 3: ['course', 'course_of_study', 'course_of_instruction', 'class'] education imparted in a series of lessons or meetings\n",
      "Meaning 4: ['class', 'division'] a league ranked by quality\n",
      "Meaning 5: ['class', 'year'] a body of students who graduate together\n",
      "Meaning 6: ['class'] (biology) a taxonomic group containing one or more orders\n",
      "Meaning 7: ['class'] elegance in dress or behavior\n",
      "Meaning 8: ['classify', 'class', 'sort', 'assort', 'sort_out', 'separate'] arrange or order by classes or categories\n"
     ]
    }
   ],
   "source": [
    "from nltk.corpus import wordnet as wn\n",
    "\n",
    "word = 'class'\n",
    "synset = wn.synsets(word)\n",
    "print('Synset: {}\\n'.format(synset))\n",
    "\n",
    "for i in range(len(synset)):\n",
    "    print('Meaning {}: {} {}'.format(i, synset[i].lemma_names(), synset[i].definition()))"
   ]
  },
  {
   "cell_type": "markdown",
   "metadata": {
    "collapsed": true
   },
   "source": [
    "## Word trees: converting sentences into logic\n",
    "\n",
    "You don't have to understand how this works (but if you want to, the NLTK book listed above is exactly where you need to be), just understand that sentences can be parsed and interpreted as the types of logics used in robotics and artificial intelligence.  the logic below says that for all dogs, a bone exists and is given to the dogs by Angus."
   ]
  },
  {
   "cell_type": "code",
   "execution_count": 14,
   "metadata": {
    "collapsed": false
   },
   "outputs": [
    {
     "name": "stdout",
     "output_type": "stream",
     "text": [
      "all z6.(dog(z6) -> exists z5.(bone(z5) & give(angus,z5,z6)))\n"
     ]
    }
   ],
   "source": [
    "from nltk import load_parser\n",
    "parser = load_parser('grammars/book_grammars/simple-sem.fcfg', trace=0)\n",
    "sentence = 'Angus gives a bone to every dog'\n",
    "tokens = sentence.split()\n",
    "for tree in parser.parse(tokens):\n",
    "    print(tree.label()['SEM'])"
   ]
  },
  {
   "cell_type": "code",
   "execution_count": 16,
   "metadata": {
    "collapsed": false
   },
   "outputs": [
    {
     "name": "stdout",
     "output_type": "stream",
     "text": [
      "(S[SEM=<all z6.(dog(z6) -> exists z5.(bone(z5) & give(angus,z5,z6)))>]\n",
      "  (NP[-LOC, NUM='sg', SEM=<\\P.P(angus)>]\n",
      "    (PropN[-LOC, NUM='sg', SEM=<\\P.P(angus)>] Angus))\n",
      "  (VP[NUM='sg', SEM=<\\x.all z6.(dog(z6) -> exists z5.(bone(z5) & give(x,z5,z6)))>]\n",
      "    (DTV[NUM='sg', SEM=<\\Y X x.X(\\z.Y(\\y.give(x,y,z)))>, TNS='pres']\n",
      "      gives)\n",
      "    (NP[NUM='sg', SEM=<\\Q.exists x.(bone(x) & Q(x))>]\n",
      "      (Det[NUM='sg', SEM=<\\P Q.exists x.(P(x) & Q(x))>] a)\n",
      "      (Nom[NUM='sg', SEM=<\\x.bone(x)>]\n",
      "        (N[NUM='sg', SEM=<\\x.bone(x)>] bone)))\n",
      "    (PP[SEM=<\\Q.all x.(dog(x) -> Q(x))>, +TO]\n",
      "      (P[+to] to)\n",
      "      (NP[NUM='sg', SEM=<\\Q.all x.(dog(x) -> Q(x))>]\n",
      "        (Det[NUM='sg', SEM=<\\P Q.all x.(P(x) -> Q(x))>] every)\n",
      "        (Nom[NUM='sg', SEM=<\\x.dog(x)>]\n",
      "          (N[NUM='sg', SEM=<\\x.dog(x)>] dog))))))\n"
     ]
    }
   ],
   "source": [
    "print('{}'.format(tree))"
   ]
  },
  {
   "cell_type": "code",
   "execution_count": null,
   "metadata": {
    "collapsed": true
   },
   "outputs": [],
   "source": []
  }
 ],
 "metadata": {
  "kernelspec": {
   "display_name": "Python 3",
   "language": "python",
   "name": "python3"
  },
  "language_info": {
   "codemirror_mode": {
    "name": "ipython",
    "version": 3
   },
   "file_extension": ".py",
   "mimetype": "text/x-python",
   "name": "python",
   "nbconvert_exporter": "python",
   "pygments_lexer": "ipython3",
   "version": "3.5.1"
  }
 },
 "nbformat": 4,
 "nbformat_minor": 0
}
